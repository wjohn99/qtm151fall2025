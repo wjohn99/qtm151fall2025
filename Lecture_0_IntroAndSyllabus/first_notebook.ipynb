{
 "cells": [
  {
   "cell_type": "markdown",
   "id": "a8a1f839",
   "metadata": {},
   "source": [
    "<p style=\"font-size:10px:\">This is my first Jupyter notebook</p>"
   ]
  },
  {
   "cell_type": "code",
   "execution_count": 1,
   "id": "3f7dada1",
   "metadata": {},
   "outputs": [
    {
     "name": "stdout",
     "output_type": "stream",
     "text": [
      "My name is John Wei\n"
     ]
    }
   ],
   "source": [
    "print(\"My name is John Wei\")"
   ]
  },
  {
   "cell_type": "markdown",
   "id": "14effc06",
   "metadata": {},
   "source": []
  }
 ],
 "metadata": {
  "kernelspec": {
   "display_name": ".venv",
   "language": "python",
   "name": "python3"
  },
  "language_info": {
   "codemirror_mode": {
    "name": "ipython",
    "version": 3
   },
   "file_extension": ".py",
   "mimetype": "text/x-python",
   "name": "python",
   "nbconvert_exporter": "python",
   "pygments_lexer": "ipython3",
   "version": "3.13.3"
  }
 },
 "nbformat": 4,
 "nbformat_minor": 5
}
